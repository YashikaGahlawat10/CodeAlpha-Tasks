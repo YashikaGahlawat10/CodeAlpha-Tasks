{
 "cells": [
  {
   "cell_type": "code",
   "execution_count": 1,
   "id": "7158b4eb-1eb1-4a48-b7a5-3663f402c3b8",
   "metadata": {},
   "outputs": [],
   "source": [
    "# import the following libraries \n",
    "# will convert the image to text string \n",
    "import pytesseract as tess   \n",
    "  \n",
    "# adds image processing capabilities \n",
    "from PIL import Image     \n",
    "   "
   ]
  },
  {
   "cell_type": "code",
   "execution_count": 2,
   "id": "6b6f29f7-e199-4d22-848d-ad25922b158a",
   "metadata": {},
   "outputs": [
    {
     "name": "stdout",
     "output_type": "stream",
     "text": [
      "<PIL.JpegImagePlugin.JpegImageFile image mode=RGB size=1152x532 at 0x226968F70D0>\n"
     ]
    }
   ],
   "source": [
    "# opening an image from the source path \n",
    "img = Image.open('WhatsApp Image.jpg')      \n",
    "  \n",
    "# describes image format in the output \n",
    "print(img) "
   ]
  },
  {
   "cell_type": "code",
   "execution_count": 3,
   "id": "4f6e71e5-a079-41ec-a9c1-342bf1b8215b",
   "metadata": {},
   "outputs": [],
   "source": [
    "# path where the tesseract module is installed \n",
    "tess.pytesseract.tesseract_cmd = r'C:\\Program Files\\Tesseract-OCR/tesseract.exe'"
   ]
  },
  {
   "cell_type": "code",
   "execution_count": 4,
   "id": "595e4fb5-7bdc-4d90-b3dd-1811743d7a3f",
   "metadata": {},
   "outputs": [
    {
     "name": "stdout",
     "output_type": "stream",
     "text": [
      "It was the best of\n",
      "times, it was the worst\n",
      "\n",
      "of times, it was the age\n",
      "of wisdom, it was the\n",
      "age of foolishness...\n",
      "\n",
      "\n"
     ]
    }
   ],
   "source": [
    "# converts the image to result and saves it into result variable \n",
    "text = tess.image_to_string(img)\n",
    "print(text)"
   ]
  },
  {
   "cell_type": "code",
   "execution_count": 5,
   "id": "cd19baff-200c-46e8-bb1a-b3938e2936d5",
   "metadata": {},
   "outputs": [],
   "source": [
    "# write text in a text file and save it to source path    \n",
    "with open('text_file.txt',mode ='w+') as file:\n",
    "    file.write(text)  "
   ]
  },
  {
   "cell_type": "code",
   "execution_count": null,
   "id": "4e8d3dd7-94ee-43bd-8270-6c8337f751f9",
   "metadata": {},
   "outputs": [],
   "source": []
  }
 ],
 "metadata": {
  "kernelspec": {
   "display_name": "Python 3 (ipykernel)",
   "language": "python",
   "name": "python3"
  },
  "language_info": {
   "codemirror_mode": {
    "name": "ipython",
    "version": 3
   },
   "file_extension": ".py",
   "mimetype": "text/x-python",
   "name": "python",
   "nbconvert_exporter": "python",
   "pygments_lexer": "ipython3",
   "version": "3.10.8"
  }
 },
 "nbformat": 4,
 "nbformat_minor": 5
}
